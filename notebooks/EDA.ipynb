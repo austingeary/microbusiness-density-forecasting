{
 "cells": [
  {
   "cell_type": "code",
   "execution_count": 1,
   "id": "3b5b9d15",
   "metadata": {},
   "outputs": [],
   "source": [
    "#!pip install plotly\n",
    "#!pip install plotly-geo\n",
    "#!pip install pyshp\n",
    "#!pip install geopandas\n"
   ]
  },
  {
   "cell_type": "code",
   "execution_count": 2,
   "id": "2520b8c2",
   "metadata": {},
   "outputs": [],
   "source": [
    "import os\n",
    "import sys\n",
    "\n",
    "repo = 'microbusiness-density-forecasting'\n",
    "ix = os.getcwd().index(repo)\n",
    "ROOT_PATH = os.path.join(os.getcwd()[:ix], repo)\n",
    "DATA_PATH = os.path.join(ROOT_PATH, 'data/raw')\n",
    "    \n",
    "    \n",
    "import pandas as pd\n",
    "import numpy as np\n",
    "from matplotlib import pyplot as plt\n",
    "import plotly.figure_factory as ff\n",
    "import geopandas\n",
    "import shapely"
   ]
  },
  {
   "cell_type": "code",
   "execution_count": 3,
   "id": "665a9163",
   "metadata": {},
   "outputs": [],
   "source": [
    "census_df = pd.read_csv(os.path.join(DATA_PATH,'census_starter.csv'))\n",
    "sample_df = pd.read_csv(os.path.join(DATA_PATH,'sample_submission.csv'))\n",
    "train_df = pd.read_csv(os.path.join(DATA_PATH,'train.csv'))\n",
    "test_df = pd.read_csv(os.path.join(DATA_PATH,'test.csv'))"
   ]
  },
  {
   "cell_type": "code",
   "execution_count": 4,
   "id": "4bd381f3",
   "metadata": {},
   "outputs": [],
   "source": [
    "train_df['dataset'] = 'train'\n",
    "test_df['dataset'] = 'test'\n",
    "df = pd.concat((train_df, test_df)).sort_values('row_id').reset_index(drop=True)"
   ]
  },
  {
   "cell_type": "code",
   "execution_count": 5,
   "id": "3dbcb117",
   "metadata": {
    "scrolled": true
   },
   "outputs": [
    {
     "data": {
      "text/html": [
       "<div>\n",
       "<style scoped>\n",
       "    .dataframe tbody tr th:only-of-type {\n",
       "        vertical-align: middle;\n",
       "    }\n",
       "\n",
       "    .dataframe tbody tr th {\n",
       "        vertical-align: top;\n",
       "    }\n",
       "\n",
       "    .dataframe thead th {\n",
       "        text-align: right;\n",
       "    }\n",
       "</style>\n",
       "<table border=\"1\" class=\"dataframe\">\n",
       "  <thead>\n",
       "    <tr style=\"text-align: right;\">\n",
       "      <th></th>\n",
       "      <th>row_id</th>\n",
       "      <th>cfips</th>\n",
       "      <th>county</th>\n",
       "      <th>state</th>\n",
       "      <th>first_day_of_month</th>\n",
       "      <th>microbusiness_density</th>\n",
       "      <th>active</th>\n",
       "      <th>dataset</th>\n",
       "    </tr>\n",
       "  </thead>\n",
       "  <tbody>\n",
       "    <tr>\n",
       "      <th>0</th>\n",
       "      <td>10001_2019-08-01</td>\n",
       "      <td>10001</td>\n",
       "      <td>Kent County</td>\n",
       "      <td>Delaware</td>\n",
       "      <td>2019-08-01</td>\n",
       "      <td>4.995701</td>\n",
       "      <td>6624.0</td>\n",
       "      <td>train</td>\n",
       "    </tr>\n",
       "    <tr>\n",
       "      <th>1</th>\n",
       "      <td>10001_2019-09-01</td>\n",
       "      <td>10001</td>\n",
       "      <td>Kent County</td>\n",
       "      <td>Delaware</td>\n",
       "      <td>2019-09-01</td>\n",
       "      <td>5.031902</td>\n",
       "      <td>6672.0</td>\n",
       "      <td>train</td>\n",
       "    </tr>\n",
       "    <tr>\n",
       "      <th>2</th>\n",
       "      <td>10001_2019-10-01</td>\n",
       "      <td>10001</td>\n",
       "      <td>Kent County</td>\n",
       "      <td>Delaware</td>\n",
       "      <td>2019-10-01</td>\n",
       "      <td>5.098270</td>\n",
       "      <td>6760.0</td>\n",
       "      <td>train</td>\n",
       "    </tr>\n",
       "    <tr>\n",
       "      <th>3</th>\n",
       "      <td>10001_2019-11-01</td>\n",
       "      <td>10001</td>\n",
       "      <td>Kent County</td>\n",
       "      <td>Delaware</td>\n",
       "      <td>2019-11-01</td>\n",
       "      <td>5.124666</td>\n",
       "      <td>6795.0</td>\n",
       "      <td>train</td>\n",
       "    </tr>\n",
       "    <tr>\n",
       "      <th>4</th>\n",
       "      <td>10001_2019-12-01</td>\n",
       "      <td>10001</td>\n",
       "      <td>Kent County</td>\n",
       "      <td>Delaware</td>\n",
       "      <td>2019-12-01</td>\n",
       "      <td>5.086203</td>\n",
       "      <td>6744.0</td>\n",
       "      <td>train</td>\n",
       "    </tr>\n",
       "  </tbody>\n",
       "</table>\n",
       "</div>"
      ],
      "text/plain": [
       "             row_id  cfips       county     state first_day_of_month  \\\n",
       "0  10001_2019-08-01  10001  Kent County  Delaware         2019-08-01   \n",
       "1  10001_2019-09-01  10001  Kent County  Delaware         2019-09-01   \n",
       "2  10001_2019-10-01  10001  Kent County  Delaware         2019-10-01   \n",
       "3  10001_2019-11-01  10001  Kent County  Delaware         2019-11-01   \n",
       "4  10001_2019-12-01  10001  Kent County  Delaware         2019-12-01   \n",
       "\n",
       "   microbusiness_density  active dataset  \n",
       "0               4.995701  6624.0   train  \n",
       "1               5.031902  6672.0   train  \n",
       "2               5.098270  6760.0   train  \n",
       "3               5.124666  6795.0   train  \n",
       "4               5.086203  6744.0   train  "
      ]
     },
     "execution_count": 5,
     "metadata": {},
     "output_type": "execute_result"
    }
   ],
   "source": [
    "df.head()"
   ]
  },
  {
   "cell_type": "code",
   "execution_count": 6,
   "id": "652d0c22",
   "metadata": {},
   "outputs": [],
   "source": [
    "df_all = df.merge(census_df, on = 'cfips', how='left')"
   ]
  },
  {
   "cell_type": "code",
   "execution_count": 7,
   "id": "02ce03b4",
   "metadata": {},
   "outputs": [],
   "source": [
    "df_all['first_day_of_month'] = pd.to_datetime(df_all[\"first_day_of_month\"])\n",
    "df_all[\"year\"] = df_all[\"first_day_of_month\"].dt.year\n",
    "df_all['month'] = df_all[\"first_day_of_month\"].dt.month"
   ]
  },
  {
   "cell_type": "code",
   "execution_count": 8,
   "id": "b57baa2c",
   "metadata": {},
   "outputs": [
    {
     "name": "stderr",
     "output_type": "stream",
     "text": [
      "/Users/austingeary/opt/anaconda3/lib/python3.9/site-packages/plotly/figure_factory/_county_choropleth.py:775: ShapelyDeprecationWarning: The 'type' attribute is deprecated, and will be removed in the future. You can use the 'geom_type' attribute instead.\n",
      "  fips_polygon_map[f].type\n",
      "/Users/austingeary/opt/anaconda3/lib/python3.9/site-packages/plotly/figure_factory/_county_choropleth.py:331: ShapelyDeprecationWarning: The 'type' attribute is deprecated, and will be removed in the future. You can use the 'geom_type' attribute instead.\n",
      "  if fips_polygon_map[f].type == \"Polygon\":\n",
      "/Users/austingeary/opt/anaconda3/lib/python3.9/site-packages/plotly/figure_factory/_county_choropleth.py:358: ShapelyDeprecationWarning: The 'type' attribute is deprecated, and will be removed in the future. You can use the 'geom_type' attribute instead.\n",
      "  elif fips_polygon_map[f].type == \"MultiPolygon\":\n"
     ]
    },
    {
     "ename": "TypeError",
     "evalue": "'MultiPolygon' object is not iterable",
     "output_type": "error",
     "traceback": [
      "\u001b[0;31m---------------------------------------------------------------------------\u001b[0m",
      "\u001b[0;31mTypeError\u001b[0m                                 Traceback (most recent call last)",
      "\u001b[0;32m/var/folders/ps/s8837nzx2wsfxjkd5sz3_fc00000gn/T/ipykernel_15533/424687326.py\u001b[0m in \u001b[0;36m<module>\u001b[0;34m\u001b[0m\n\u001b[0;32m----> 1\u001b[0;31m \u001b[0mfig\u001b[0m \u001b[0;34m=\u001b[0m \u001b[0mff\u001b[0m\u001b[0;34m.\u001b[0m\u001b[0mcreate_choropleth\u001b[0m\u001b[0;34m(\u001b[0m\u001b[0mfips\u001b[0m\u001b[0;34m=\u001b[0m\u001b[0mcensus_df\u001b[0m\u001b[0;34m.\u001b[0m\u001b[0mcfips\u001b[0m\u001b[0;34m,\u001b[0m\u001b[0mtitle\u001b[0m \u001b[0;34m=\u001b[0m \u001b[0;34m'pct_bb_2019'\u001b[0m\u001b[0;34m,\u001b[0m \u001b[0mvalues\u001b[0m\u001b[0;34m=\u001b[0m\u001b[0mcensus_df\u001b[0m\u001b[0;34m.\u001b[0m\u001b[0mpct_bb_2019\u001b[0m\u001b[0;34m.\u001b[0m\u001b[0mvalues\u001b[0m\u001b[0;34m)\u001b[0m\u001b[0;34m\u001b[0m\u001b[0;34m\u001b[0m\u001b[0m\n\u001b[0m\u001b[1;32m      2\u001b[0m \u001b[0mfig\u001b[0m\u001b[0;34m.\u001b[0m\u001b[0mlayout\u001b[0m\u001b[0;34m.\u001b[0m\u001b[0mtemplate\u001b[0m \u001b[0;34m=\u001b[0m \u001b[0;32mNone\u001b[0m\u001b[0;34m\u001b[0m\u001b[0;34m\u001b[0m\u001b[0m\n\u001b[1;32m      3\u001b[0m \u001b[0mfig\u001b[0m\u001b[0;34m.\u001b[0m\u001b[0mshow\u001b[0m\u001b[0;34m(\u001b[0m\u001b[0;34m)\u001b[0m\u001b[0;34m;\u001b[0m\u001b[0;34m\u001b[0m\u001b[0;34m\u001b[0m\u001b[0m\n",
      "\u001b[0;32m~/opt/anaconda3/lib/python3.9/site-packages/plotly/figure_factory/_county_choropleth.py\u001b[0m in \u001b[0;36mcreate_choropleth\u001b[0;34m(fips, values, scope, binning_endpoints, colorscale, order, simplify_county, simplify_state, asp, show_hover, show_state_data, state_outline, county_outline, centroid_marker, round_legend_values, exponent_format, legend_title, **layout_options)\u001b[0m\n\u001b[1;32m    781\u001b[0m                     \u001b[0my_centroids\u001b[0m\u001b[0;34m,\u001b[0m\u001b[0;34m\u001b[0m\u001b[0;34m\u001b[0m\u001b[0m\n\u001b[1;32m    782\u001b[0m                     \u001b[0mcentroid_text\u001b[0m\u001b[0;34m,\u001b[0m\u001b[0;34m\u001b[0m\u001b[0;34m\u001b[0m\u001b[0m\n\u001b[0;32m--> 783\u001b[0;31m                 \u001b[0;34m)\u001b[0m \u001b[0;34m=\u001b[0m \u001b[0m_calculations\u001b[0m\u001b[0;34m(\u001b[0m\u001b[0;34m\u001b[0m\u001b[0;34m\u001b[0m\u001b[0m\n\u001b[0m\u001b[1;32m    784\u001b[0m                     \u001b[0mdf\u001b[0m\u001b[0;34m,\u001b[0m\u001b[0;34m\u001b[0m\u001b[0;34m\u001b[0m\u001b[0m\n\u001b[1;32m    785\u001b[0m                     \u001b[0mfips\u001b[0m\u001b[0;34m,\u001b[0m\u001b[0;34m\u001b[0m\u001b[0;34m\u001b[0m\u001b[0m\n",
      "\u001b[0;32m~/opt/anaconda3/lib/python3.9/site-packages/plotly/figure_factory/_county_choropleth.py\u001b[0m in \u001b[0;36m_calculations\u001b[0;34m(df, fips, values, index, f, simplify_county, level, x_centroids, y_centroids, centroid_text, x_traces, y_traces, fips_polygon_map)\u001b[0m\n\u001b[1;32m    357\u001b[0m         \u001b[0my_traces\u001b[0m\u001b[0;34m[\u001b[0m\u001b[0mlevel\u001b[0m\u001b[0;34m]\u001b[0m \u001b[0;34m=\u001b[0m \u001b[0my_traces\u001b[0m\u001b[0;34m[\u001b[0m\u001b[0mlevel\u001b[0m\u001b[0;34m]\u001b[0m \u001b[0;34m+\u001b[0m \u001b[0my\u001b[0m \u001b[0;34m+\u001b[0m \u001b[0;34m[\u001b[0m\u001b[0mnp\u001b[0m\u001b[0;34m.\u001b[0m\u001b[0mnan\u001b[0m\u001b[0;34m]\u001b[0m\u001b[0;34m\u001b[0m\u001b[0;34m\u001b[0m\u001b[0m\n\u001b[1;32m    358\u001b[0m     \u001b[0;32melif\u001b[0m \u001b[0mfips_polygon_map\u001b[0m\u001b[0;34m[\u001b[0m\u001b[0mf\u001b[0m\u001b[0;34m]\u001b[0m\u001b[0;34m.\u001b[0m\u001b[0mtype\u001b[0m \u001b[0;34m==\u001b[0m \u001b[0;34m\"MultiPolygon\"\u001b[0m\u001b[0;34m:\u001b[0m\u001b[0;34m\u001b[0m\u001b[0;34m\u001b[0m\u001b[0m\n\u001b[0;32m--> 359\u001b[0;31m         x = [\n\u001b[0m\u001b[1;32m    360\u001b[0m             \u001b[0mpoly\u001b[0m\u001b[0;34m.\u001b[0m\u001b[0msimplify\u001b[0m\u001b[0;34m(\u001b[0m\u001b[0msimplify_county\u001b[0m\u001b[0;34m)\u001b[0m\u001b[0;34m.\u001b[0m\u001b[0mexterior\u001b[0m\u001b[0;34m.\u001b[0m\u001b[0mxy\u001b[0m\u001b[0;34m[\u001b[0m\u001b[0;36m0\u001b[0m\u001b[0;34m]\u001b[0m\u001b[0;34m.\u001b[0m\u001b[0mtolist\u001b[0m\u001b[0;34m(\u001b[0m\u001b[0;34m)\u001b[0m\u001b[0;34m\u001b[0m\u001b[0;34m\u001b[0m\u001b[0m\n\u001b[1;32m    361\u001b[0m             \u001b[0;32mfor\u001b[0m \u001b[0mpoly\u001b[0m \u001b[0;32min\u001b[0m \u001b[0mfips_polygon_map\u001b[0m\u001b[0;34m[\u001b[0m\u001b[0mf\u001b[0m\u001b[0;34m]\u001b[0m\u001b[0;34m\u001b[0m\u001b[0;34m\u001b[0m\u001b[0m\n",
      "\u001b[0;31mTypeError\u001b[0m: 'MultiPolygon' object is not iterable"
     ]
    }
   ],
   "source": [
    "fig = ff.create_choropleth(fips=census_df.cfips,title = 'pct_bb_2019', values=census_df.pct_bb_2019.values)\n",
    "fig.layout.template = None\n",
    "fig.show();"
   ]
  },
  {
   "cell_type": "code",
   "execution_count": null,
   "id": "b8068c51",
   "metadata": {},
   "outputs": [],
   "source": [
    "#add year and month columns\n",
    "def target_shape(input_df):\n",
    "    df = input_df.copy(deep=True)\n",
    "    df['year']=df['first_day_of_month'].str.split('-',expand=True).iloc[:,0]\n",
    "    df['month']=df['first_day_of_month'].str.split('-',expand=True).iloc[:,1]\n",
    "    df['year_month']=df['year']+df['month']\n",
    "    df['year']=df['year'].astype('int')\n",
    "    df['month']=df['month'].astype('int')\n",
    "    df = df.drop('first_day_of_month', axis=1)\n",
    "    df['cfips_year'] = df['cfips'].astype(str) + '_' + df['year'].astype(str)\n",
    "    return df\n",
    "df2 = target_shape(df)"
   ]
  },
  {
   "cell_type": "code",
   "execution_count": null,
   "id": "97054dab",
   "metadata": {
    "scrolled": true
   },
   "outputs": [],
   "source": [
    "census_df.head()"
   ]
  },
  {
   "cell_type": "code",
   "execution_count": null,
   "id": "0de99aba",
   "metadata": {
    "scrolled": true
   },
   "outputs": [],
   "source": [
    "def census_shape(input_df):\n",
    "    df = input_df.copy(deep=True)\n",
    "    df = pd.wide_to_long(df,\n",
    "                         stubnames=['pct_bb','pct_college','pct_foreign_born','pct_it_workers', 'median_hh_inc'], \n",
    "                         i='cfips', j='year', sep='_', suffix='\\d+')\n",
    "    df.sort_index(axis=0, level=[0,1], ascending=True, inplace=True)\n",
    "    df.reset_index(inplace=True)\n",
    "    dfs = []\n",
    "    for cfip in df['cfips'].unique():\n",
    "        county_df = df[df['cfips'] == cfip]\n",
    "        county_df.interpolate(method='linear', limit_direction='both', inplace=True)\n",
    "        dfs.append(county_df)\n",
    "    df = pd.concat(dfs)\n",
    "    df['cfips_year'] = df['cfips'].astype(str) + '_' + df['year'].astype(str)\n",
    "    return df\n",
    "census_df2 = census_shape(census_df)"
   ]
  },
  {
   "cell_type": "code",
   "execution_count": null,
   "id": "a66dded9",
   "metadata": {},
   "outputs": [],
   "source": [
    "census_df2.head()"
   ]
  },
  {
   "cell_type": "code",
   "execution_count": null,
   "id": "f2d305c7",
   "metadata": {
    "scrolled": true
   },
   "outputs": [],
   "source": [
    "train_df2.head()"
   ]
  },
  {
   "cell_type": "code",
   "execution_count": null,
   "id": "6f397217",
   "metadata": {},
   "outputs": [],
   "source": [
    "test_df.head()"
   ]
  },
  {
   "cell_type": "code",
   "execution_count": null,
   "id": "51f32740",
   "metadata": {},
   "outputs": [],
   "source": [
    "plt.plot(train_df[train_df['cfips'] == 1001]['first_day_of_month'],\n",
    "         train_df[train_df['cfips'] == 1001]['microbusiness_density'] )\n",
    "plt.xticks(rotation=90)\n",
    "plt.show()"
   ]
  }
 ],
 "metadata": {
  "kernelspec": {
   "display_name": "Python 3 (ipykernel)",
   "language": "python",
   "name": "python3"
  },
  "language_info": {
   "codemirror_mode": {
    "name": "ipython",
    "version": 3
   },
   "file_extension": ".py",
   "mimetype": "text/x-python",
   "name": "python",
   "nbconvert_exporter": "python",
   "pygments_lexer": "ipython3",
   "version": "3.9.7"
  }
 },
 "nbformat": 4,
 "nbformat_minor": 5
}
